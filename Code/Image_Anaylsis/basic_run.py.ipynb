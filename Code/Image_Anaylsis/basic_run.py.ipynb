{
 "cells": [
  {
   "cell_type": "code",
   "execution_count": 4,
   "metadata": {},
   "outputs": [
    {
     "name": "stdout",
     "output_type": "stream",
     "text": [
      "(5250, 5250)\n",
      "(27562500,)\n",
      "-0.0010754982 -1.2452178e-06 0.004314123056828961 14.744983\n",
      "(10963990,)\n",
      "(10854350,)\n"
     ]
    },
    {
     "data": {
      "image/png": "[encoded data removed]",
      "text/plain": [
       "<Figure size 432x288 with 1 Axes>"
      ]
     },
     "metadata": {
      "needs_background": "light"
     },
     "output_type": "display_data"
    }
   ],
   "source": [
    "import numpy as np\n",
    "from astropy.io import fits\n",
    "\n",
    "\n",
    "\n",
    "# --- open the image and simply quote the size (in pixels)\n",
    "\n",
    "image_dir = '../../data/original' # image directory relative to this script\n",
    "#Could ask to input the filter ID?\n",
    "#f = input('Filter ID')\n",
    "f = 'f435w' # filter ID\n",
    "\n",
    "sci = fits.getdata(f'{image_dir}/{f}_sci.fits') # read FITS file data\n",
    "print(sci.shape) # return the shape of the image\n",
    "\n",
    "\n",
    "# --- plot a histogram of the pixel values\n",
    "\n",
    "import matplotlib.pyplot as plt\n",
    "\n",
    "pix = sci.flatten() # flatten image to produce a list of pixels\n",
    "\n",
    "print(pix.shape)\n",
    "\n",
    "pix = pix[pix!=0.0] # exclude pixels which are exactly 0.0; these are likely bits of the image which have not been observed.\n",
    "\n",
    "print(np.min(pix), np.median(pix), np.percentile(pix, 99), np.max(pix)) # print min, median, 99th percentile, and max.\n",
    "\n",
    "print(pix.shape)\n",
    "\n",
    "# NOTE: some pixels are erroneously high, keeping them would screw up any histograme\n",
    "\n",
    "p99 = np.percentile(pix, 99) # determine 99th percentil of pixel distribution.\n",
    "\n",
    "pix = pix[pix<p99]\n",
    "\n",
    "print(pix.shape)\n",
    "\n",
    "plt.hist(pix, bins = 1000)\n",
    "plt.show()"
   ]
  },
  {
   "cell_type": "code",
   "execution_count": null,
   "metadata": {},
   "outputs": [],
   "source": []
  },
  {
   "cell_type": "code",
   "execution_count": null,
   "metadata": {},
   "outputs": [],
   "source": []
  }
 ],
 "metadata": {
  "kernelspec": {
   "display_name": "Python 3",
   "language": "python",
   "name": "python3"
  },
  "language_info": {
   "codemirror_mode": {
    "name": "ipython",
    "version": 3
   },
   "file_extension": ".py",
   "mimetype": "text/x-python",
   "name": "python",
   "nbconvert_exporter": "python",
   "pygments_lexer": "ipython3",
   "version": "3.8.5"
  }
 },
 "nbformat": 4,
 "nbformat_minor": 2
}
